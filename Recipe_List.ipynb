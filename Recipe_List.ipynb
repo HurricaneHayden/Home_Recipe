{
 "cells": [
  {
   "cell_type": "code",
   "execution_count": 17,
   "metadata": {},
   "outputs": [
    {
     "name": "stdout",
     "output_type": "stream",
     "text": [
      "{'Chicken Gnochi': ['Chicken Breast', 'Potato Gnocchi', 'Frozen Spinach', 'Carrots', 'Canned Coconut Milk'], 'Chili': ['Ground Beef', 'Tomatoes', 'Tomato Paste', 'Hatch Green Chiles', 'Pinto Beans', 'Kidney Beans', 'Black Beans'], 'Yellow Mustard Curry Chicken': ['Chicken Breast', 'Yellow Mustard Curry Sauce', 'White Rice'], 'Mahi Mahi Peach Bowl': ['Mahi Mahi', 'White RIce', 'Mangoes', 'Strawberries']}\n"
     ]
    }
   ],
   "source": [
    "import pandas as pd\n",
    "import numpy as np\n",
    "\n",
    "recipes = {\n",
    "    \"Chicken Gnochi\":[\"Chicken Breast\", \"Potato Gnocchi\", \"Frozen Spinach\", \"Carrots\", \"Canned Coconut Milk\"],\n",
    "    \"Chili\":[\"Ground Beef\", \"Tomatoes\", \"Tomato Paste\", \"Hatch Green Chiles\", \"Pinto Beans\", \"Kidney Beans\", \"Black Beans\"],\n",
    "    \"Yellow Mustard Curry Chicken\": [\"Chicken Breast\", \"Yellow Mustard Curry Sauce\", \"White Rice\"],\n",
    "    \"Mahi Mahi Peach Bowl\": [\"Mahi Mahi\", \"White RIce\", \"Mangoes\", \"Strawberries\"] # type: ignore\n",
    "           \n",
    "}\n",
    "\n",
    "print (recipes)\n",
    "\n"
   ]
  },
  {
   "cell_type": "code",
   "execution_count": 18,
   "metadata": {},
   "outputs": [
    {
     "name": "stdout",
     "output_type": "stream",
     "text": [
      "                        Recipes  \\\n",
      "0                Chicken Gnochi   \n",
      "1                         Chili   \n",
      "2  Yellow Mustard Curry Chicken   \n",
      "3          Mahi Mahi Peach Bowl   \n",
      "\n",
      "                                         Ingredients  \n",
      "0  Chicken Breast, Potato Gnocchi, Frozen Spinach...  \n",
      "1  Ground Beef, Tomatoes, Tomato Paste, Hatch Gre...  \n",
      "2  Chicken Breast, Yellow Mustard Curry Sauce, Wh...  \n",
      "3       Mahi Mahi, White RIce, Mangoes, Strawberries  \n"
     ]
    }
   ],
   "source": [
    "data = [(recipes, ', '.join(ingredients)) for recipes, ingredients in recipes.items()]\n",
    "df = pd.DataFrame(data, columns=['Recipes', 'Ingredients'])\n",
    "\n",
    "print(df)\n"
   ]
  },
  {
   "cell_type": "code",
   "execution_count": 19,
   "metadata": {},
   "outputs": [],
   "source": [
    "def find_recipes_by_ingredients(user_ingredients):\n",
    "    # Split the input string into a list and normalize (Lowercase)\n",
    "    user_ingredients_list = [ingredients.strip().lower() for ingredients in user_ingredients.split(',')]\n",
    "\n",
    "    matching_recipes = []\n",
    "\n",
    "    # Check each recipe to see if it contains any of the user's ingredients\n",
    "    for recipe, ingredients in recipes.items():\n",
    "\n",
    "        recipe_ingredients = [ingredients.strip().lower() for ingredients in ingredients]\n",
    "\n",
    "        if any(user_input in ingredient for user_input in user_ingredients_list for ingredient in recipe_ingredients):\n",
    "            matching_recipes.append(recipe)\n",
    "\n",
    "    return matching_recipes"
   ]
  },
  {
   "cell_type": "code",
   "execution_count": 20,
   "metadata": {},
   "outputs": [
    {
     "name": "stdout",
     "output_type": "stream",
     "text": [
      "Recipes that can be made with your ingredients:\n",
      "Chicken Gnochi\n",
      "Chili\n",
      "Yellow Mustard Curry Chicken\n",
      "Mahi Mahi Peach Bowl\n"
     ]
    }
   ],
   "source": [
    "# Example usage\n",
    "user_input = input(\"Enter ingredients you have (comma-separated): \")\n",
    "matching_recipes = find_recipes_by_ingredients(user_input)\n",
    "\n",
    "# Printing the matching recipes\n",
    "if matching_recipes:\n",
    "    print(\"Recipes that can be made with your ingredients:\")\n",
    "    for recipe in matching_recipes:\n",
    "        print(recipe)\n",
    "else:\n",
    "    print(\"No recipes found with the provided ingredients.\")"
   ]
  }
 ],
 "metadata": {
  "kernelspec": {
   "display_name": "Python 3",
   "language": "python",
   "name": "python3"
  },
  "language_info": {
   "codemirror_mode": {
    "name": "ipython",
    "version": 3
   },
   "file_extension": ".py",
   "mimetype": "text/x-python",
   "name": "python",
   "nbconvert_exporter": "python",
   "pygments_lexer": "ipython3",
   "version": "3.12.7"
  }
 },
 "nbformat": 4,
 "nbformat_minor": 2
}
